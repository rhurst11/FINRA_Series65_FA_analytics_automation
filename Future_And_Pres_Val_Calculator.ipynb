{
 "cells": [
  {
   "cell_type": "code",
   "execution_count": 59,
   "id": "cec6308c-0359-4fd7-8cfc-e2f46fef27bc",
   "metadata": {},
   "outputs": [],
   "source": [
    "def future_val_calculator(principal, rate, years):\n",
    "# making list to append to with iteration\n",
    "# list needs to append previous \n",
    "\n",
    "    total_returns = []\n",
    "    \n",
    "    for year in range(0,years):\n",
    "        principal = principal * (1 + rate)\n",
    "        total_returns.append(principal)\n",
    "        \n",
    "    return total_returns[-1]"
   ]
  },
  {
   "cell_type": "code",
   "execution_count": 60,
   "id": "337533e0-0e86-4a2e-822a-caa070cc3dca",
   "metadata": {},
   "outputs": [
    {
     "data": {
      "text/plain": [
       "20113.57187499999"
      ]
     },
     "execution_count": 60,
     "metadata": {},
     "output_type": "execute_result"
    }
   ],
   "source": [
    "# play with this more\n",
    "\n",
    "future_val_calculator(10000, 0.15, 5)"
   ]
  },
  {
   "cell_type": "code",
   "execution_count": 65,
   "id": "04476fad-4a06-4aab-a34f-8f26050a0ffb",
   "metadata": {},
   "outputs": [],
   "source": [
    "def present_val_calculator(principal, rate, years):\n",
    "    total_returns = []\n",
    "    \n",
    "    for year in range(0,years):\n",
    "        principal = principal / (1 + rate)\n",
    "        total_returns.append(principal)\n",
    "        \n",
    "    return total_returns"
   ]
  },
  {
   "cell_type": "code",
   "execution_count": 67,
   "id": "cebc36c4-982e-4b36-8f74-7a2523b19676",
   "metadata": {},
   "outputs": [
    {
     "data": {
      "text/plain": [
       "[17391.304347826088,\n",
       " 15122.87334593573,\n",
       " 13150.324648639766,\n",
       " 11435.064911860667,\n",
       " 9943.534705965798]"
      ]
     },
     "execution_count": 67,
     "metadata": {},
     "output_type": "execute_result"
    }
   ],
   "source": [
    "present_val_calculator(20000, 0.15, 5)"
   ]
  },
  {
   "cell_type": "code",
   "execution_count": null,
   "id": "ce68f80e-6dc5-49c6-871d-1e1c1220c58f",
   "metadata": {},
   "outputs": [],
   "source": []
  }
 ],
 "metadata": {
  "kernelspec": {
   "display_name": "Python 3 (ipykernel)",
   "language": "python",
   "name": "python3"
  },
  "language_info": {
   "codemirror_mode": {
    "name": "ipython",
    "version": 3
   },
   "file_extension": ".py",
   "mimetype": "text/x-python",
   "name": "python",
   "nbconvert_exporter": "python",
   "pygments_lexer": "ipython3",
   "version": "3.7.11"
  }
 },
 "nbformat": 4,
 "nbformat_minor": 5
}
